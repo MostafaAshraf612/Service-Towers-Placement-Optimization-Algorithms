{
  "cells": [
    {
      "cell_type": "markdown",
      "metadata": {
        "id": "2KfhvhoH3ydO"
      },
      "source": [
        "### ***1. Importing Needed Libraries:***\n"
      ]
    },
    {
      "cell_type": "code",
      "execution_count": null,
      "metadata": {
        "id": "2vVE4slJ3vOx"
      },
      "outputs": [],
      "source": [
        "import numpy as np\n",
        "import random\n",
        "import math\n",
        "from math import pi\n",
        "import matplotlib.pyplot as plt\n",
        "from PIL import Image"
      ]
    },
    {
      "cell_type": "markdown",
      "metadata": {
        "id": "B_HCE3ND35K-"
      },
      "source": [
        "### ***2. System Map Initialization:***\n",
        "\n"
      ]
    },
    {
      "cell_type": "code",
      "execution_count": null,
      "metadata": {
        "colab": {
          "background_save": true
        },
        "id": "VtpDl5OR35jK"
      },
      "outputs": [],
      "source": [
        "X_mini = 0    \n",
        "X_max = 100\n",
        "Y_mini = 0\n",
        "Y_max = 100"
      ]
    },
    {
      "cell_type": "markdown",
      "metadata": {
        "id": "sL4Xsq4Y4DDT"
      },
      "source": [
        "### ***3. System Initialization:*** "
      ]
    },
    {
      "cell_type": "code",
      "execution_count": null,
      "metadata": {
        "colab": {
          "background_save": true,
          "base_uri": "https://localhost:8080/",
          "height": 853
        },
        "id": "OupCxohS4DZK",
        "outputId": "5dd78f9e-74f1-4dc2-83e3-118687a50e08"
      },
      "outputs": [
        {
          "data": {
            "image/png": "[encoded data removed]",
            "text/plain": [
              "<Figure size 640x480 with 1 Axes>"
            ]
          },
          "metadata": {},
          "output_type": "display_data"
        },
        {
          "data": {
            "image/png": "[encoded data removed]",
            "text/plain": [
              "<Figure size 640x480 with 1 Axes>"
            ]
          },
          "metadata": {},
          "output_type": "display_data"
        }
      ],
      "source": [
        "No_of_Towers = 30\n",
        "No_of_Forbidden_Areas = 4\n",
        "Spacing_Flag = 0\n",
        "order = 0\n",
        "Members_List=[]\n",
        "T_X_pos = np.zeros(No_of_Towers)\n",
        "T_Y_pos = np.zeros(No_of_Towers)\n",
        "T_radius = np.ones(No_of_Towers)*8\n",
        "F_radius = np.array([5,10,5,10])\n",
        "#F_X_pos = np.zeros(No_of_Forbidden_Areas)\n",
        "#F_Y_pos = np.zeros(No_of_Forbidden_Areas)\n",
        "A_map = X_max*Y_max\n",
        "F_X_pos = np.array([ 20 , 80 , 90 , 30 ])\n",
        "F_Y_pos = np.array([ 20 , 40 , 80 , 70 ])\n",
        "color_list =['blue','green', 'yellow' , 'black' , 'maroon' ,'gray' , 'indigo', 'orange' , 'purple', 'pink' ,'brown'] \n",
        "Tower_Order = []\n",
        "RedZones_Order = []\n",
        "for i in range (0 ,No_of_Towers):\n",
        "    Tower_Order.append(i)\n",
        "for i in range (0 ,No_of_Forbidden_Areas):\n",
        "    RedZones_Order.append(i)\n",
        "map_fig, map_axes = plt.subplots()\n",
        "obj_fig, obj_axes = plt.subplots()\n"
      ]
    },
    {
      "cell_type": "markdown",
      "metadata": {
        "id": "msgCrvFy4Dxk"
      },
      "source": [
        "### ***4. Functions Definitions:***\n"
      ]
    },
    {
      "cell_type": "code",
      "execution_count": null,
      "metadata": {
        "colab": {
          "background_save": true
        },
        "id": "L5NE5CZY4EBJ"
      },
      "outputs": [],
      "source": [
        "def get_Towers_Area(T_radius):\n",
        "  A_total = 0\n",
        "  for i in  range(0,No_of_Towers):\n",
        "    At = np.pi*pow(T_radius[i],2)\n",
        "    A_total = At + A_total\n",
        "  return A_total\n",
        "\n",
        "def get_forbidden_zones_area(F_radius):\n",
        "  Af_total = 0\n",
        " #Get the Areas Of The Forbidden Areas:\n",
        "  for i in range(0,No_of_Forbidden_Areas):\n",
        "    Af = pi*pow(F_radius[i],2)\n",
        "    Af_total = Af + Af_total\n",
        "  return Af_total\n",
        "\n",
        "def get_Specified_Intersected_Area(X_Pos_1 ,Y_Pos_1 ,X_Pos_2 , Y_Pos_2 , Radius_1 , Radius_2):\n",
        "  centre_distance = np.sqrt(pow(X_Pos_1-X_Pos_2, 2)+pow(Y_Pos_1-Y_Pos_2, 2))\n",
        "  if (centre_distance > Radius_1 + Radius_2):\n",
        "    intersected_area = 0\n",
        "  elif (centre_distance <= abs(Radius_1 - Radius_2)):\n",
        "      if (Radius_1 >= Radius_2):\n",
        "          intersected_area = np.pi*pow(Radius_2, 2)\n",
        "      else: # self.r < other.r\n",
        "          intersected_area = np.pi*pow(Radius_1, 2)\n",
        "  else:\n",
        "    alpha = np.arccos(((Radius_1 * Radius_1) + (centre_distance * centre_distance) - (Radius_2 * Radius_2)) / (2 * Radius_1 * centre_distance)) * 2# 2.0*np.arccos(pow(Radius_1, 2)+pow(centre_distance, 2)-pow(Radius_2, 2)/(2.0* Radius_1*centre_distance))\n",
        "    Beta  = np.arccos(((Radius_2 * Radius_2) + (centre_distance * centre_distance) - (Radius_1 * Radius_1)) / (2 * Radius_2 * centre_distance)) * 2                                                                                                                                  #2.0*np.arccos(pow(Radius_2, 2)+pow(centre_distance, 2)-pow(Radius_1, 2)/(2.0*Radius_2*centre_distance))\n",
        "    a1 = 0.5*pow(Radius_2, 2)*(Beta-np.sin(Beta ))\n",
        "    a2 = 0.5*pow(Radius_1, 2)*(alpha -np.sin(alpha))\n",
        "    intersected_area = np.floor(a1+a2)\n",
        "  return intersected_area  \n",
        "def get_Towers_Spacing(X_Pos_1 ,Y_Pos_1 ,X_Pos_2 , Y_Pos_2 ):\n",
        "  Towers_Spacing = np.sqrt(pow(X_Pos_1-X_Pos_2, 2)+pow(Y_Pos_1-Y_Pos_2, 2))\n",
        "  return Towers_Spacing\n",
        "\n",
        "def get_order(X_Pos , Y_Pos):\n",
        "  List = [X_Pos , Y_Pos]\n",
        "  order = Members_List.index(List)\n",
        "  return order\n",
        "# objective function\n",
        "def get_objective(T_X_poss , T_Y_poss ):\n",
        "  covered_area   = 0\n",
        "  towers_spacing = 0\n",
        "\n",
        "   # towers:\n",
        "  covered_area = get_Towers_Area(T_radius) + get_forbidden_zones_area(F_radius)\n",
        "  for i in range(0, No_of_Towers-1):   \n",
        "        for j in range(i, No_of_Towers):\n",
        "          if (i == j):\n",
        "              covered_area = covered_area\n",
        "          else:\n",
        "            covered_area -=  get_Specified_Intersected_Area(T_X_poss[i],T_Y_poss[i],T_X_poss[j],T_Y_poss[j],T_radius[i],T_radius[j])\n",
        "            towers_spacing += get_Towers_Spacing(T_X_poss[i],T_X_poss[j],T_Y_poss[i],T_Y_poss[j])\n",
        "\n",
        "  # RedZones:\n",
        "  covered_area += get_forbidden_zones_area(F_radius)\n",
        "  for i in range(0,No_of_Forbidden_Areas-1):\n",
        "      for j in range(i+1,No_of_Forbidden_Areas):\n",
        "          covered_area -= get_Specified_Intersected_Area(F_X_pos[i],F_X_pos[j],F_Y_pos[i],F_Y_pos[j],F_radius[i],F_radius[j])\n",
        "\n",
        "  objective_value = pow(covered_area,1) # + pow(towers_spacing ,2)\n",
        "\n",
        "  return objective_value\n",
        "\n",
        "def feasibility_check(X_Pos , Y_Pos , Radius ):\n",
        " RedZone_flag = 0\n",
        " Spacing_flag = 0\n",
        " counterr = 0\n",
        " order = get_order(X_Pos , Y_Pos) \n",
        " epslon = 3\n",
        " Tower_order = 0\n",
        " \n",
        " for RedZone in RedZones_Order:\n",
        "    if(get_Specified_Intersected_Area(X_Pos,Y_Pos ,F_X_pos[RedZone],F_Y_pos[RedZone],Radius,F_radius[RedZone]) > 0):\n",
        "       RedZone_flag = 1 \n",
        "       break\n",
        " initial_Order =  int (order/No_of_Towers)\n",
        " for member in range (initial_Order*No_of_Towers  , initial_Order*No_of_Towers + No_of_Towers  ):\n",
        "        Tower_order = get_order(Members_List[member][0],Members_List[member][1])\n",
        "        if ( Tower_order == order ):\n",
        "            Spacing_flag = 0\n",
        "        else:  \n",
        "            if( get_Specified_Intersected_Area(X_Pos,Y_Pos ,Members_List[member][0],Members_List[member][1],Radius,T_radius[0]) < 5 ):\n",
        "              Spacing_flag = 1\n",
        "      \n",
        "            elif(get_Specified_Intersected_Area(X_Pos,Y_Pos ,Members_List[member][0],Members_List[member][1],Radius,T_radius[0]) == 0 ):\n",
        "               Spacing_flag = 0\n",
        "              \n",
        "            elif (Tower_order != order and X_Pos == Members_List[member][0] and Y_Pos == Members_List[member][1] ):\n",
        "               Spacing_flag = 2 \n",
        "               break \n",
        "            else :\n",
        "                Spacing_flag = 2 \n",
        "                break \n",
        "        \n",
        " #if    X_Pos < Radius or  X_Pos > X_max - Radius      : Check = False\n",
        " #elif  Y_Pos < Radius or  Y_Pos > Y_max - Radius      : Check = False\n",
        " if  RedZone_flag !=0                                 : Check = False\n",
        " elif  Spacing_flag ==2                               : Check = False\n",
        " else                                                 : Check = True\n",
        " return Check\n",
        " \n",
        "def get_Member(Index):\n",
        "  Member= []\n",
        "  for j in range(No_of_Towers*Index ,No_of_Towers*Index + No_of_Towers ):\n",
        "      Member.append(Members_List[j])\n",
        "  return Member\n",
        "\n",
        "def Validate_Coordinates_Constrain():\n",
        "\n",
        "  for member , Tower_no in zip(Members_List , Tower_Order):\n",
        "    if  member[0] < 0 :\n",
        "        Members_List[Tower_no][0] = 0\n",
        "    elif member[0] > X_max - T_radius[Tower_no] :\n",
        "         Members_List[Tower_no][0] = X_max - T_radius[Tower_no]\n",
        "    if  member[1] < 0 :\n",
        "       Members_List[Tower_no][1] = 0\n",
        "    elif  member[1] > Y_max - T_radius[Tower_no]:\n",
        "       Members_List[Tower_no][1] = Y_max - T_radius[Tower_no]\n",
        "\n",
        "def Visualize_Solution(Members_List):\n",
        "  print(Members_List)\n",
        "  fig = plt.gcf()\n",
        "  axes = fig.gca()\n",
        "  axes.cla()\n",
        "  axes.set_xlim((0, X_max))\n",
        "  axes.set_ylim((0, Y_max))\n",
        "  axes.set_aspect(1)\n",
        "  for tower in Members_List :\n",
        "    axes.add_artist(plt.Circle((tower[0], tower[1]), T_radius[0],facecolor='blue', edgecolor='black'))\n",
        "  for i in range(0,No_of_Forbidden_Areas):\n",
        "    axes.add_artist(plt.Circle((F_X_pos[i], F_Y_pos[i]),F_radius[i], color='r'))\n",
        "  plt.title('Visualization Map')\n",
        "  plt.ylabel(\"Y Coordinate\")\n",
        "  plt.xlabel(\"X Coordinate\")\n",
        "  plt.show()\n",
        "  #fig.savefig('Visualization Map.png')\n",
        "\n",
        "def visualize_objFunc(values):\n",
        "  obj_axes.plot(values, 'g')\n",
        "  plt.title('Objective Function')\n",
        "  obj_fig.savefig('Objective Function.png')\n",
        "def Generate_First_Solution():\n",
        "  Members_List.clear()\n",
        "  RedZone_flag = 0\n",
        "  for i in range(0,No_of_Towers):\n",
        "    Members_Parameters_list =list()\n",
        "    T_X_pos[i] = random.randint(9,90)\n",
        "    T_Y_pos[i] = random.randint(9,90)\n",
        "    for RedZone in RedZones_Order:\n",
        "      if(get_Specified_Intersected_Area(T_X_pos[i],T_Y_pos[i],F_X_pos[RedZone],F_Y_pos[RedZone],T_radius[0],F_radius[RedZone]) > 0):\n",
        "       RedZone_flag = 1 \n",
        "       #print(\"red flag\")\n",
        "       break\n",
        "      else:\n",
        "        RedZone_flag = 0\n",
        "    while (T_X_pos[i] < T_radius[i] or T_X_pos[i] > (X_max - T_radius[i]) or RedZone_flag == 1 ):\n",
        "      T_X_pos[i] = random.randint(9,90)\n",
        "      for RedZone in RedZones_Order:\n",
        "        if(get_Specified_Intersected_Area(T_X_pos[i],T_Y_pos[i],F_X_pos[RedZone],F_Y_pos[RedZone],T_radius[0],F_radius[RedZone]) > 0):\n",
        "          RedZone_flag = 1 \n",
        "       #print(\"red flag\")\n",
        "          break\n",
        "        else:\n",
        "          RedZone_flag = 0\n",
        "    while (T_Y_pos[i] < T_radius[i] or T_Y_pos[i] > (Y_max - T_radius[i]) or RedZone_flag == 1  ):\n",
        "      T_Y_pos[i] = random.randint(9,90)\n",
        "      for RedZone in RedZones_Order:\n",
        "        if(get_Specified_Intersected_Area(T_X_pos[i],T_Y_pos[i],F_X_pos[RedZone],F_Y_pos[RedZone],T_radius[0],F_radius[RedZone]) > 0):\n",
        "          RedZone_flag = 1 \n",
        "       #print(\"red flag\")\n",
        "          break\n",
        "        else:\n",
        "          RedZone_flag = 0\n",
        "    Members_Parameters_list.append(T_X_pos[i])\n",
        "    Members_Parameters_list.append(T_Y_pos[i])\n",
        "    Members_List.append(Members_Parameters_list)\n",
        "  #Validate_Coordinates_Constrain()       \n",
        "  return Members_List\n",
        "def get_updated():\n",
        "  for i in range(0,No_of_Towers):\n",
        "    X_current[i] = X_new[i]\n",
        "    Y_current[i] = Y_new[i]"
      ]
    },
    {
      "cell_type": "markdown",
      "metadata": {
        "id": "BR5bYYhE5793"
      },
      "source": [
        "### ***5. Simulated Annealing Algorithm (SA) Initialization and Approach :***"
      ]
    },
    {
      "cell_type": "markdown",
      "metadata": {
        "id": "2TpDy23p6Uja"
      },
      "source": [
        "### *5.1 Algorithm's Parameters Initalization :*"
      ]
    },
    {
      "cell_type": "code",
      "execution_count": null,
      "metadata": {
        "colab": {
          "background_save": true,
          "base_uri": "https://localhost:8080/"
        },
        "id": "tq9x1oOt6YyD",
        "outputId": "1d8ce1a1-3607-4155-eda5-69268915f1e4"
      },
      "outputs": [
        {
          "name": "stdout",
          "output_type": "stream",
          "text": [
            "[[53.0, 49.0], [67.0, 61.0], [40.0, 35.0], [66.0, 57.0], [86.0, 14.0], [14.0, 79.0], [57.0, 90.0], [39.0, 44.0], [33.0, 90.0], [70.0, 78.0], [36.0, 39.0], [41.0, 49.0], [46.0, 27.0], [29.0, 44.0], [60.0, 52.0], [47.0, 77.0], [41.0, 86.0], [45.0, 39.0], [18.0, 84.0], [50.0, 51.0], [42.0, 50.0], [56.0, 15.0], [19.0, 49.0], [65.0, 67.0], [33.0, 42.0], [64.0, 65.0], [49.0, 13.0], [52.0, 59.0], [74.0, 13.0], [43.0, 27.0]]\n",
            "30\n"
          ]
        }
      ],
      "source": [
        "max_No_Of_Itt = 500\n",
        "T_init = 100\n",
        "T_final = 0.001\n",
        "linear_colling_param = (T_init-T_final)/max_No_Of_Itt\n",
        "X_Coordinates_List =[]\n",
        "Y_Coordinates_List =[]\n",
        "X_Coordinates = []\n",
        "Y_Coordinates =[]\n",
        "Objective_Function_Values = []\n",
        "X_current = np.zeros(No_of_Towers)\n",
        "Y_current = np.zeros(No_of_Towers)\n",
        "X_new = np.zeros(No_of_Towers)\n",
        "Y_new = np.zeros(No_of_Towers)\n",
        "T = T_init\n",
        "temp_values = np.zeros(max_No_Of_Itt+1)\n",
        "temp_values[0] = T_init\n",
        "Objective_Function_Values.insert(0,get_objective(T_X_pos,T_Y_pos))\n",
        "temp_values[0] = T_init\n",
        "Members_List = Generate_First_Solution()\n",
        "print(Members_List)\n",
        "print(len(Members_List))\n",
        "i = 0\n",
        "for member in Members_List:\n",
        "#for i in range(0, No_of_Towers):\n",
        "    X_current[i] = Members_List[i][0]\n",
        "    Y_current[i] = Members_List[i][1]\n",
        "    i = i + 1\n"
      ]
    },
    {
      "cell_type": "code",
      "execution_count": null,
      "metadata": {
        "colab": {
          "background_save": true,
          "base_uri": "https://localhost:8080/",
          "height": 1000
        },
        "id": "cQ1nghvH9o8J",
        "outputId": "0d9fe7a8-29c8-492d-b979-2f13be40dec3"
      },
      "outputs": [],
      "source": [
        "max_member = []\n",
        "max_objective = 0\n",
        "for i in range(0,max_No_Of_Itt):\n",
        "  for j in range(0,No_of_Towers):\n",
        "    X_new[j] = X_current[j] + random.randint(0,10)\n",
        "    Y_new[j] = Y_current[j] + random.randint(0,10) \n",
        "    while (X_new[j] < T_radius[j] or X_new[j]> (X_max - T_radius[j]) ):\n",
        "          X_new[j] = random.randint(9,90)\n",
        "    Members_List[j][0] = X_new[j]\n",
        "    while (Y_new[j] < T_radius[j] or Y_new[j] > (Y_max - T_radius[j])  ):\n",
        "            Y_new[j] = random.randint(9,90)\n",
        "    Members_List[j][1] = Y_new[j]\n",
        "  for member in Members_List:\n",
        "    RedZone_flag = 0\n",
        "    for RedZone in RedZones_Order:\n",
        "      if(get_Specified_Intersected_Area(member[0],member[1],F_X_pos[RedZone],F_Y_pos[RedZone],T_radius[0],F_radius[RedZone]) > 0):\n",
        "       RedZone_flag = 1 \n",
        "       #print(\"red flag\")\n",
        "       break\n",
        "      else:\n",
        "        RedZone_flag = 0\n",
        "    order = get_order(member[0],member[1])\n",
        "    for j in range(0,No_of_Towers):\n",
        "      if (order != j):\n",
        "        while (member[0] < T_radius[j] or member[0]> (X_max - T_radius[j]) or member[0] == X_new[j] or RedZone_flag == 1):\n",
        "          X_new[j] = random.randint(9,90)\n",
        "          for RedZone in RedZones_Order:\n",
        "            if(get_Specified_Intersected_Area(X_new[j],member[1],F_X_pos[RedZone],F_Y_pos[RedZone],T_radius[0],F_radius[RedZone]) > 0):\n",
        "              RedZone_flag = 1 \n",
        "              #print(\"red flag\")\n",
        "              break\n",
        "            else:\n",
        "              RedZone_flag = 0\n",
        "        Members_List[j][0] = X_new[j]\n",
        "        RedZone_flag = 1\n",
        "        while (member[1] < T_radius[j] or member[1]  > (Y_max - T_radius[j]) or member[1] == Y_new[j] or RedZone_flag == 1 ):\n",
        "          Y_new[j] = random.randint(9,90)\n",
        "          for RedZone in RedZones_Order:\n",
        "            if(get_Specified_Intersected_Area(X_new[j],Y_new[j],F_X_pos[RedZone],F_Y_pos[RedZone],T_radius[0],F_radius[RedZone]) > 0):\n",
        "              RedZone_flag = 1 \n",
        "              #print(\"red flag\")\n",
        "              break\n",
        "            else:\n",
        "              RedZone_flag = 0\n",
        "        Members_List[j][1] = Y_new[j]\n",
        "      else:\n",
        "        n = 0\n",
        " # print(Members_List)\n",
        "  counter = 0\n",
        "  #print(Members_List)\n",
        "  new_obj_value = get_objective(X_new,Y_new)\n",
        "  old_obj_value = get_objective(X_current,Y_current)\n",
        "  delta_E =  -new_obj_value + old_obj_value\n",
        "  #print(new_obj_value)\n",
        "  if (delta_E < 0):\n",
        "    get_updated()\n",
        "    Objective_Function_Values.insert(i+1,new_obj_value)\n",
        "   # print(\"Solution_Updated_1\")\n",
        "  else:\n",
        "    prob = math.exp(-delta_E/T)\n",
        "    r = 0.7\n",
        "    if (r < prob):\n",
        "      get_updated()\n",
        "      Objective_Function_Values.insert(i+1,new_obj_value)\n",
        "      #print(\"Solution_Updated_2\")\n",
        "    else:\n",
        "      b = 0\n",
        "      for member in Members_List:\n",
        "        Members_List[b][0] = X_current[b]\n",
        "        Members_List[b][1] = Y_current[b]\n",
        "        b = b + 1\n",
        "      Objective_Function_Values.insert(i+1,old_obj_value)\n",
        "  if (Objective_Function_Values[i] > max_objective ):\n",
        "    max_objective = Objective_Function_Values[i]\n",
        "    max_member = Members_List\n",
        "  Visualize_Solution(Members_List)\n",
        "  T = T_init - linear_colling_param*i\n",
        "  temp_values[i+1] = T\n"
      ]
    },
    {
      "cell_type": "code",
      "execution_count": null,
      "metadata": {
        "colab": {
          "background_save": true
        },
        "id": "LVebnkFnMK6T",
        "outputId": "932bf386-3c59-4750-9e04-640b898c2947"
      },
      "outputs": [
        {
          "name": "stdout",
          "output_type": "stream",
          "text": [
            "5664.654221687303\n",
            "114\n"
          ]
        }
      ],
      "source": [
        "max_value = max( Objective_Function_Values)\n",
        "index = np.argmax(Objective_Function_Values)\n",
        "print(max_value)\n",
        "print(index)"
      ]
    },
    {
      "cell_type": "code",
      "execution_count": null,
      "metadata": {
        "colab": {
          "background_save": true
        },
        "id": "4miDWd0BMQKu",
        "outputId": "64e6a805-50c0-409e-913e-5f04826097d2"
      },
      "outputs": [
        {
          "name": "stdout",
          "output_type": "stream",
          "text": [
            "[[91.0, 64.0], [53.0, 35.0], [14.0, 86.0], [64.0, 51.0], [34.0, 48.0], [51.0, 60.0], [90.0, 23.0], [21.0, 41.0], [41.0, 30.0], [60.0, 85.0], [27.0, 47.0], [87.0, 13.0], [74.0, 23.0], [62.0, 15.0], [70.0, 74.0], [78.0, 73.0], [68.0, 64.0], [67.0, 61.0], [57.0, 73.0], [77.0, 14.0], [76.0, 89.0], [52.0, 38.0], [35.0, 21.0], [45.0, 80.0], [40.0, 39.0], [29.0, 88.0], [72.0, 60.0], [56.0, 35.0], [44.0, 16.0], [18.0, 45.0]]\n",
            "5664.654221687303\n",
            "[[91.0, 64.0], [53.0, 35.0], [14.0, 86.0], [64.0, 51.0], [34.0, 48.0], [51.0, 60.0], [90.0, 23.0], [21.0, 41.0], [41.0, 30.0], [60.0, 85.0], [27.0, 47.0], [87.0, 13.0], [74.0, 23.0], [62.0, 15.0], [70.0, 74.0], [78.0, 73.0], [68.0, 64.0], [67.0, 61.0], [57.0, 73.0], [77.0, 14.0], [76.0, 89.0], [52.0, 38.0], [35.0, 21.0], [45.0, 80.0], [40.0, 39.0], [29.0, 88.0], [72.0, 60.0], [56.0, 35.0], [44.0, 16.0], [18.0, 45.0]]\n"
          ]
        },
        {
          "data": {
            "image/png": "[encoded data removed]",
            "text/plain": [
              "<Figure size 640x480 with 1 Axes>"
            ]
          },
          "metadata": {},
          "output_type": "display_data"
        }
      ],
      "source": [
        "print(max_member)\n",
        "x_max = np.zeros(No_of_Towers)\n",
        "y_max = np.zeroes(No_of_Towers)\n",
        "b = 0\n",
        "for member in max_member:\n",
        "  x_test = max_member[b][0]\n",
        "  y_max = max_member[b][1]\n",
        "obj_value = get_objective(x_max,y_max)\n",
        "print(obj_value)\n",
        "Visualize_Solution(max_member)\n"
      ]
    }
  ],
  "metadata": {
    "colab": {
      "provenance": []
    },
    "kernelspec": {
      "display_name": "Python 3",
      "name": "python3"
    },
    "language_info": {
      "name": "python"
    }
  },
  "nbformat": 4,
  "nbformat_minor": 0
}